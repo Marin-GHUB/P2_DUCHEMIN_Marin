{
 "cells": [
  {
   "cell_type": "code",
   "execution_count": 1,
   "metadata": {},
   "outputs": [],
   "source": [
    "import numpy as np"
   ]
  },
  {
   "cell_type": "code",
   "execution_count": 2,
   "metadata": {},
   "outputs": [
    {
     "name": "stdout",
     "output_type": "stream",
     "text": [
      "[[2 3 4]\n",
      " [4 5 6]\n",
      " [6 7 8]]\n"
     ]
    }
   ],
   "source": [
    "# Une liste de listes est transformée en un tableau multi-dimensionnel\n",
    "test = np.array([range(i, i + 3) for i in [2, 4, 6]])\n",
    "print(test)"
   ]
  },
  {
   "cell_type": "code",
   "execution_count": 7,
   "metadata": {},
   "outputs": [
    {
     "name": "stdout",
     "output_type": "stream",
     "text": [
      "[0 1 2 3 4] [0. 1. 2. 3. 4.]\n"
     ]
    }
   ],
   "source": [
    "test1 = np.arange(0,5,1)\n",
    "test2 = np.linspace(0,4,5)\n",
    "print(test1,test2)"
   ]
  },
  {
   "cell_type": "code",
   "execution_count": 22,
   "metadata": {},
   "outputs": [
    {
     "name": "stdout",
     "output_type": "stream",
     "text": [
      "[3.05091639 2.278476  ]\n"
     ]
    }
   ],
   "source": [
    "test1 = np.random.random((3,3))\n",
    "test2 = np.random.randint((3,3))\n",
    "test3 = np.random.normal((3,3))\n",
    "print(test3)"
   ]
  },
  {
   "cell_type": "code",
   "execution_count": 41,
   "metadata": {},
   "outputs": [
    {
     "name": "stdout",
     "output_type": "stream",
     "text": [
      "nombre de dimensions de x1:  1\n",
      "forme de x1:  (6,)\n",
      "taille de x1:  6\n",
      "type de x1:  int64\n",
      "[ 5  0  3 11  3  7]\n"
     ]
    }
   ],
   "source": [
    "np.random.seed(0)\n",
    "x1 = np.random.randint((12,12,12,12,12,12))\n",
    "print(\"nombre de dimensions de x1: \", x1.ndim)\n",
    "print(\"forme de x1: \", x1.shape)\n",
    "print(\"taille de x1: \", x1.size)\n",
    "print(\"type de x1: \", x1.dtype)\n",
    "print(x1)"
   ]
  },
  {
   "cell_type": "code",
   "execution_count": 43,
   "metadata": {},
   "outputs": [
    {
     "name": "stdout",
     "output_type": "stream",
     "text": [
      "[ 5  3  3 11  3  7]\n",
      "5\n",
      "7\n",
      "[[7 8 1 5]\n",
      " [9 8 9 4]\n",
      " [3 0 3 5]] 8\n",
      "[   5 1000    3   11    3    7]\n",
      "[ 5  3  3 11  3  7]\n"
     ]
    }
   ],
   "source": [
    "print(x1)\n",
    "\n",
    "# Pour accéder au premier élément\n",
    "print(x1[0])\n",
    "\n",
    "# Pour accéder au dernier élément\n",
    "print(x1[-1])\n",
    "\n",
    "x2 = np.random.randint(10, size=(3, 4))  # Tableau de dimension 2\n",
    "print(x2,x2[0,1])\n",
    "\n",
    "# On peut aussi modifier les valeurs\n",
    "x1[1] = \"1000\"\n",
    "print(x1)\n",
    "\n",
    "# Attention au type\n",
    "x1[1] = 3.14\n",
    "print(x1)"
   ]
  },
  {
   "cell_type": "code",
   "execution_count": 44,
   "metadata": {},
   "outputs": [
    {
     "name": "stdout",
     "output_type": "stream",
     "text": [
      "[ 5  3  3 11  3]\n",
      "[7]\n",
      "[5 3 3]\n"
     ]
    }
   ],
   "source": [
    "print(x1[:5])  # Les cinq premiers éléments\n",
    "\n",
    "print(x1[5:])  # Les éléments à partir de l'index 5\n",
    "\n",
    "print(x1[::2])  # Un élément sur deux"
   ]
  },
  {
   "cell_type": "code",
   "execution_count": 45,
   "metadata": {},
   "outputs": [
    {
     "data": {
      "text/plain": [
       "array([ 7,  3, 11,  3,  3,  5])"
      ]
     },
     "execution_count": 45,
     "metadata": {},
     "output_type": "execute_result"
    }
   ],
   "source": [
    "x1[::-1]"
   ]
  },
  {
   "cell_type": "code",
   "execution_count": 120,
   "metadata": {},
   "outputs": [
    {
     "name": "stdout",
     "output_type": "stream",
     "text": [
      "[[7 8 1 5]\n",
      " [9 8 9 4]\n",
      " [3 0 3 5]]\n"
     ]
    },
    {
     "data": {
      "text/plain": [
       "array([7, 8, 1, 5])"
      ]
     },
     "execution_count": 120,
     "metadata": {},
     "output_type": "execute_result"
    }
   ],
   "source": [
    "print(x2)\n",
    "\n",
    "x2[0,:]"
   ]
  },
  {
   "cell_type": "code",
   "execution_count": 91,
   "metadata": {},
   "outputs": [
    {
     "data": {
      "text/plain": [
       "array([[1, 2, 3],\n",
       "       [9, 8, 7],\n",
       "       [6, 5, 4]])"
      ]
     },
     "execution_count": 91,
     "metadata": {},
     "output_type": "execute_result"
    }
   ],
   "source": [
    "x = np.array([1, 2, 3])\n",
    "grid = np.array([[9, 8, 7],\n",
    "                 [6, 5, 4]])\n",
    "\n",
    "np.vstack([x, grid])"
   ]
  },
  {
   "cell_type": "code",
   "execution_count": 92,
   "metadata": {},
   "outputs": [
    {
     "name": "stdout",
     "output_type": "stream",
     "text": [
      "[1.         0.33333333 0.25       0.11111111 0.5       ]\n",
      "3.51 s ± 209 ms per loop (mean ± std. dev. of 7 runs, 1 loop each)\n"
     ]
    }
   ],
   "source": [
    "def calcul_inverse(values):\n",
    "    output = np.empty(len(values))\n",
    "    for i in range(len(values)):\n",
    "        output[i] = 1.0 / values[i]\n",
    "    return output\n",
    "        \n",
    "values = np.random.randint(1, 10, size=5)\n",
    "print(calcul_inverse(values))\n",
    "\n",
    "tableau_large = np.random.randint(1, 100, size=1000000)\n",
    "\n",
    "# Ceci est une facilité des notebooks jupyter pour \n",
    "# mesurer le temps d'exécution d'une instruction\n",
    "%timeit calcul_inverse(tableau_large)"
   ]
  },
  {
   "cell_type": "code",
   "execution_count": 93,
   "metadata": {},
   "outputs": [
    {
     "name": "stdout",
     "output_type": "stream",
     "text": [
      "4.27 ms ± 127 µs per loop (mean ± std. dev. of 7 runs, 100 loops each)\n"
     ]
    }
   ],
   "source": [
    "%timeit (1.0 / tableau_large)"
   ]
  },
  {
   "cell_type": "code",
   "execution_count": 94,
   "metadata": {},
   "outputs": [
    {
     "name": "stdout",
     "output_type": "stream",
     "text": [
      "x     = [0 1 2 3]\n",
      "x + 5 = [5 6 7 8]\n",
      "x - 5 = [-5 -4 -3 -2]\n",
      "x * 2 = [0 2 4 6]\n",
      "x / 2 = [0.  0.5 1.  1.5]\n",
      "x // 2 = [0 0 1 1]\n"
     ]
    }
   ],
   "source": [
    "# Il y a tout d'abord des opération mathématiques simples\n",
    "x = np.arange(4)\n",
    "print(\"x     =\", x)\n",
    "print(\"x + 5 =\", x + 5)\n",
    "print(\"x - 5 =\", x - 5)\n",
    "print(\"x * 2 =\", x * 2)\n",
    "print(\"x / 2 =\", x / 2)\n",
    "print(\"x // 2 =\", x // 2)  # Division avec arronid"
   ]
  },
  {
   "cell_type": "code",
   "execution_count": 95,
   "metadata": {},
   "outputs": [
    {
     "name": "stdout",
     "output_type": "stream",
     "text": [
      "La valeur absolue:  [2 1 1 2]\n",
      "Exponentielle:  [0.13533528 0.36787944 2.71828183 7.3890561 ]\n",
      "Logarithme:  [0.69314718 0.         0.         0.69314718]\n"
     ]
    }
   ],
   "source": [
    "x = [-2, -1, 1, 2]\n",
    "print(\"La valeur absolue: \", np.abs(x))\n",
    "print(\"Exponentielle: \", np.exp(x))\n",
    "print(\"Logarithme: \", np.log(np.abs(x)))"
   ]
  },
  {
   "cell_type": "code",
   "execution_count": 104,
   "metadata": {},
   "outputs": [
    {
     "name": "stdout",
     "output_type": "stream",
     "text": [
      "[[0.73882912 0.97343133 0.04370114]\n",
      " [0.75900897 0.13531095 0.88282561]\n",
      " [0.3126663  0.49555108 0.9552979 ]]\n"
     ]
    },
    {
     "data": {
      "text/plain": [
       "(array([0, 0, 1, 1, 2]), array([0, 1, 0, 2, 2]))"
      ]
     },
     "execution_count": 104,
     "metadata": {},
     "output_type": "execute_result"
    }
   ],
   "source": [
    "x = np.random.rand(3,3)\n",
    "print(x)\n",
    "\n",
    "np.where(x > 0.5)"
   ]
  },
  {
   "cell_type": "code",
   "execution_count": 107,
   "metadata": {},
   "outputs": [
    {
     "name": "stdout",
     "output_type": "stream",
     "text": [
      "46.193192464628325\n",
      "0.0031533459288014543\n",
      "0.999635071159728\n"
     ]
    }
   ],
   "source": [
    "L = np.random.random(100)\n",
    "print(np.sum(L))\n",
    "print(np.min(L))\n",
    "print(np.max(L))"
   ]
  },
  {
   "cell_type": "code",
   "execution_count": 108,
   "metadata": {},
   "outputs": [
    {
     "name": "stdout",
     "output_type": "stream",
     "text": [
      "372 ms ± 115 ms per loop (mean ± std. dev. of 7 runs, 1 loop each)\n",
      "957 µs ± 34.2 µs per loop (mean ± std. dev. of 7 runs, 1000 loops each)\n"
     ]
    }
   ],
   "source": [
    "%timeit sum(tableau_large)\n",
    "%timeit np.sum(tableau_large)"
   ]
  },
  {
   "cell_type": "code",
   "execution_count": 117,
   "metadata": {},
   "outputs": [
    {
     "name": "stdout",
     "output_type": "stream",
     "text": [
      "[[ 2  4  0  8]\n",
      " [10  7  7  9]\n",
      " [ 7  7  9  3]]\n",
      "La somme de tous les éléments de M:  73\n",
      "Les sommes des colonnes de M:  [19 18 16 20]\n",
      "Les sommes des lignes de M:  [14 33 26]\n"
     ]
    }
   ],
   "source": [
    "M = np.random.randint(12,size=(3, 4))\n",
    "print(M)\n",
    "# Notez la syntax variable.fonction au lieu de \n",
    "# np.fonction(variable). Les deux sont possibles si\n",
    "# la variable est un tableau Numpy.\n",
    "print(\"La somme de tous les éléments de M: \", M.sum())\n",
    "print(\"Les sommes des colonnes de M: \", M.sum(axis=0))\n",
    "print(\"Les sommes des lignes de M: \", M.sum(axis=1))"
   ]
  },
  {
   "cell_type": "code",
   "execution_count": 129,
   "metadata": {},
   "outputs": [
    {
     "data": {
      "text/plain": [
       "3.2"
      ]
     },
     "execution_count": 129,
     "metadata": {},
     "output_type": "execute_result"
    }
   ],
   "source": [
    "#np.std pour ecart type\n",
    "#np.argmin pour l'index de l'element minimum\n",
    "#np.percentile pour els stat sur les elements\n",
    "np.percentile(M,20)"
   ]
  },
  {
   "cell_type": "code",
   "execution_count": 133,
   "metadata": {},
   "outputs": [
    {
     "name": "stdout",
     "output_type": "stream",
     "text": [
      "a est: [0 1 2]\n",
      "b est: [[0]\n",
      " [1]\n",
      " [2]]\n",
      "a+b est: [[0 1 2]\n",
      " [1 2 3]\n",
      " [2 3 4]]\n"
     ]
    }
   ],
   "source": [
    "a = np.arange(3)\n",
    "print('a est:', a)\n",
    "# La ligne suivante crée une matrice de taille 3x1\n",
    "# avec trois lignes et une colonne.\n",
    "b = np.arange(3)[:, np.newaxis]\n",
    "print('b est:',b)\n",
    "a+b\n",
    "print('a+b est:',a+b)"
   ]
  },
  {
   "cell_type": "code",
   "execution_count": 143,
   "metadata": {},
   "outputs": [
    {
     "data": {
      "text/plain": [
       "array([[0],\n",
       "       [1],\n",
       "       [2]])"
      ]
     },
     "execution_count": 143,
     "metadata": {},
     "output_type": "execute_result"
    }
   ],
   "source": [
    "np.array([[0],[1],[2]])"
   ]
  },
  {
   "cell_type": "code",
   "execution_count": null,
   "metadata": {},
   "outputs": [],
   "source": []
  }
 ],
 "metadata": {
  "kernelspec": {
   "display_name": "Python 3",
   "language": "python",
   "name": "python3"
  },
  "language_info": {
   "codemirror_mode": {
    "name": "ipython",
    "version": 3
   },
   "file_extension": ".py",
   "mimetype": "text/x-python",
   "name": "python",
   "nbconvert_exporter": "python",
   "pygments_lexer": "ipython3",
   "version": "3.8.3"
  }
 },
 "nbformat": 4,
 "nbformat_minor": 4
}
