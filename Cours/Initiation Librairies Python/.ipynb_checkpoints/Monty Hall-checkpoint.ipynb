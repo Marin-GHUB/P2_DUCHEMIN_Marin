{
 "cells": [
  {
   "cell_type": "code",
   "execution_count": 2,
   "metadata": {},
   "outputs": [],
   "source": [
    "from random import randint, seed\n",
    "\n",
    "from enum import Enum\n",
    "\n",
    "import matplotlib.pyplot as plt"
   ]
  },
  {
   "cell_type": "code",
   "execution_count": 58,
   "metadata": {},
   "outputs": [],
   "source": [
    "class Strategie(Enum):\n",
    "    CHANGER = 1\n",
    "    GARDER = 2\n",
    "    HASARD = 3"
   ]
  },
  {
   "cell_type": "code",
   "execution_count": 63,
   "metadata": {},
   "outputs": [],
   "source": [
    "seed()\n",
    "\n",
    "def play_game(strategie):\n",
    "    \"\"\"Simule une partie du jeu Monty Hall\n",
    "    \n",
    "    Args : \n",
    "        strategie(Strategie): la strategie du joueur\n",
    "    \n",
    "    Returns:\n",
    "        bool: le joueuru a-t-il gagne?\n",
    "    \"\"\"\n",
    "    \n",
    "    portes = [0,1,2]\n",
    "    \n",
    "    bonne_porte = randint(0,2)\n",
    "    \n",
    "    #choix du joueur\n",
    "    premier_choix = randint(0,2)\n",
    "    \n",
    "    #il nous reste deux portes\n",
    "    portes.remove(premier_choix)\n",
    "    \n",
    "    #le presentateur elimine une porte\n",
    "    if premier_choix == bonne_porte:\n",
    "        portes.remove(portes[randint(0,1)])\n",
    "    else:\n",
    "        portes = [bonne_porte]\n",
    "        \n",
    "    deuxieme_choix = 0\n",
    "    #le deuxieme choix depend de la strategie\n",
    "    if strategie == Strategie.CHANGER:\n",
    "        deuxieme_choix = portes[0]\n",
    "    elif strategie == Strategie.GARDER:\n",
    "        deuxieme_choix = premier_choix\n",
    "    elif strategie == Strategie.HASARD:\n",
    "        hasard = randint(0,1)\n",
    "        deuxieme_choix == portes[0] if hasard == 0 else deuxieme_choix == premier_choix\n",
    "    else:\n",
    "        raise ValueError(\"Strategie non reconnue!\")\n",
    "    return deuxieme_choix == bonne_porte"
   ]
  },
  {
   "cell_type": "code",
   "execution_count": 64,
   "metadata": {},
   "outputs": [
    {
     "data": {
      "text/plain": [
       "False"
      ]
     },
     "execution_count": 64,
     "metadata": {},
     "output_type": "execute_result"
    }
   ],
   "source": [
    "play_game(Strategie.HASARD)"
   ]
  },
  {
   "cell_type": "code",
   "execution_count": 27,
   "metadata": {},
   "outputs": [],
   "source": [
    "def play(strategie, nb_tours):\n",
    "    '''Simule une suite de tours de jeu.\n",
    "    \n",
    "    Args:\n",
    "        strategie (Strategie): la strategie du joueur\n",
    "        nb_tours (int):Nombre de tours\n",
    "        \n",
    "    Returns:\n",
    "        list: Liste des gains du joueurs a chaque partie\n",
    "    '''\n",
    "    \n",
    "    return [1 if play_game(strategie) else 0 for i in range(nb_tours)]"
   ]
  },
  {
   "cell_type": "code",
   "execution_count": 87,
   "metadata": {},
   "outputs": [
    {
     "name": "stdout",
     "output_type": "stream",
     "text": [
      "En changeant de porte, le joueur a gagne 6705 sur 10000 parties.\n",
      "En gardant son choix initial, le joueur a gagne 3421 sur 10000 parties.\n",
      "En choisissant au hasard, le joueur a gagne 3291 sur 10000 parties.\n"
     ]
    }
   ],
   "source": [
    "print(\"En changeant de porte, le joueur a gagne {} sur 10000 parties.\"\n",
    "     .format(sum(play(Strategie.CHANGER, 10000))))\n",
    "\n",
    "print(\"En gardant son choix initial, le joueur a gagne {} sur 10000 parties.\"\n",
    "     .format(sum(play(Strategie.GARDER, 10000))))\n",
    "\n",
    "print(\"En choisissant au hasard, le joueur a gagne {} sur 10000 parties.\"\n",
    "     .format(sum(play(Strategie.HASARD, 10000))))"
   ]
  },
  {
   "cell_type": "code",
   "execution_count": 82,
   "metadata": {},
   "outputs": [
    {
     "data": {
      "image/png": "[encoded data removed]",
      "text/plain": [
       "<Figure size 432x288 with 1 Axes>"
      ]
     },
     "metadata": {
      "needs_background": "light"
     },
     "output_type": "display_data"
    }
   ],
   "source": [
    "plot = plt.scatter(range(10000), play(Strategie.CHANGER, 10000))"
   ]
  },
  {
   "cell_type": "code",
   "execution_count": 88,
   "metadata": {},
   "outputs": [
    {
     "data": {
      "image/png": "[encoded data removed]",
      "text/plain": [
       "<Figure size 432x288 with 1 Axes>"
      ]
     },
     "metadata": {
      "needs_background": "light"
     },
     "output_type": "display_data"
    }
   ],
   "source": [
    "plot = plt.bar([1,2,3],[sum(play(Strategie.CHANGER, 10000)),\n",
    "                     sum(play(Strategie.HASARD, 10000)),\n",
    "                     sum(play(Strategie.GARDER, 10000))],\n",
    "              tick_label=[\"Changer\", \"Hasard\", \"Garder\"])"
   ]
  },
  {
   "cell_type": "code",
   "execution_count": 89,
   "metadata": {},
   "outputs": [],
   "source": [
    "gains_changer = []\n",
    "gains_garder = []\n",
    "gains_hasard = []\n",
    "samples = [1000, 10000, 20000, 50000, 80000, 100000]\n",
    "for tours in samples:\n",
    "    gains_changer.append(play(Strategie.CHANGER, tours))\n",
    "    gains_garder.append(play(Strategie.GARDER, tours))\n",
    "    gains_hasard.append(play(Strategie.HASARD, tours))"
   ]
  },
  {
   "cell_type": "code",
   "execution_count": 90,
   "metadata": {},
   "outputs": [
    {
     "data": {
      "image/png": "[encoded data removed]",
      "text/plain": [
       "<Figure size 432x288 with 1 Axes>"
      ]
     },
     "metadata": {
      "needs_background": "light"
     },
     "output_type": "display_data"
    }
   ],
   "source": [
    "figure = plt.figure()\n",
    "plot = plt.scatter(samples, [sum(x) for x in gains_changer])\n",
    "plot = plt.scatter(samples, [sum(x) for x in gains_garder])\n",
    "plot = plt.scatter(samples, [sum(x) for x in gains_hasard])"
   ]
  },
  {
   "cell_type": "code",
   "execution_count": 91,
   "metadata": {},
   "outputs": [
    {
     "name": "stdout",
     "output_type": "stream",
     "text": [
      "somme en changeant : [676, 6720, 13395, 33305, 53314, 66660]\n",
      "somme en gardant : [323, 3377, 6654, 16669, 26798, 33318]\n",
      "somme en hasardant : [322, 3378, 6657, 16733, 26846, 33236]\n",
      "moyenne en changeant : [0.676, 0.672, 0.66975, 0.6661, 0.666425, 0.6666]\n",
      "moyenne en gardant : [0.323, 0.3377, 0.3327, 0.33338, 0.334975, 0.33318]\n",
      "moyenne en hasardant : [0.322, 0.3378, 0.33285, 0.33466, 0.335575, 0.33236]\n"
     ]
    }
   ],
   "source": [
    "moyenne_changer = []\n",
    "moyenne_garder = []\n",
    "moyenne_hasard = []\n",
    "\n",
    "for tours in samples:\n",
    "    moyenne_changer = [sum(x) for x in gains_changer]\n",
    "    moyenne_garder = [sum(x) for x in gains_garder]\n",
    "    moyenne_hasard = [sum(x) for x in gains_hasard]\n",
    "    \n",
    "print('somme en changeant :', moyenne_changer)\n",
    "print('somme en gardant :', moyenne_garder)\n",
    "print('somme en hasardant :', moyenne_hasard)\n",
    "\n",
    "for i in range (0,6):\n",
    "    moyenne_changer[i] = moyenne_changer[i]/samples[i]\n",
    "    moyenne_garder[i] = moyenne_garder[i]/samples[i]\n",
    "    moyenne_hasard[i] = moyenne_hasard[i]/samples[i]\n",
    "    \n",
    "print('moyenne en changeant :', moyenne_changer)\n",
    "print('moyenne en gardant :', moyenne_garder)\n",
    "print('moyenne en hasardant :', moyenne_hasard)"
   ]
  },
  {
   "cell_type": "code",
   "execution_count": 95,
   "metadata": {},
   "outputs": [
    {
     "data": {
      "image/png": "[encoded data removed]",
      "text/plain": [
       "<Figure size 432x288 with 1 Axes>"
      ]
     },
     "metadata": {
      "needs_background": "light"
     },
     "output_type": "display_data"
    },
    {
     "data": {
      "image/png": "[encoded data removed]",
      "text/plain": [
       "<Figure size 432x288 with 1 Axes>"
      ]
     },
     "metadata": {
      "needs_background": "light"
     },
     "output_type": "display_data"
    }
   ],
   "source": [
    "figure = plt.figure()\n",
    "plot = plt.scatter(samples, moyenne_changer)\n",
    "plot = plt.scatter(samples, moyenne_garder)\n",
    "plot = plt.scatter(samples, moyenne_hasard)\n",
    "\n",
    "figure2 = plt.figure()\n",
    "plot = plt.bar([1,2,3],[sum(moyenne_changer)/6,\n",
    "                     sum(moyenne_hasard)/6,\n",
    "                     sum(moyenne_garder)/6],\n",
    "              tick_label=[\"Changer\", \"Hasard\", \"Garder\"])"
   ]
  },
  {
   "cell_type": "code",
   "execution_count": null,
   "metadata": {},
   "outputs": [],
   "source": []
  }
 ],
 "metadata": {
  "kernelspec": {
   "display_name": "Python 3",
   "language": "python",
   "name": "python3"
  },
  "language_info": {
   "codemirror_mode": {
    "name": "ipython",
    "version": 3
   },
   "file_extension": ".py",
   "mimetype": "text/x-python",
   "name": "python",
   "nbconvert_exporter": "python",
   "pygments_lexer": "ipython3",
   "version": "3.8.3"
  }
 },
 "nbformat": 4,
 "nbformat_minor": 4
}
