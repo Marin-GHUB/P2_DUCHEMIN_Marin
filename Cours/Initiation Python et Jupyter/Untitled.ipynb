{
 "cells": [
  {
   "cell_type": "markdown",
   "metadata": {},
   "source": [
    "# Un titre de niveau 1\n",
    "Voici un peu de texte pour présenter un markdown\n",
    "## titre de niveau 2\n",
    "**Ceci** est très important\n",
    "## autre titre de niveau 2\n",
    "Mais *cela* également !"
   ]
  },
  {
   "cell_type": "code",
   "execution_count": 3,
   "metadata": {},
   "outputs": [
    {
     "name": "stdout",
     "output_type": "stream",
     "text": [
      "J'ai déjà été à Sydney 5 fois\n"
     ]
    }
   ],
   "source": [
    "ville = \"Sydney\"\n",
    "nombreVoyages = 5\n",
    "histoire = \"J'ai déjà été à \" + ville + \" \" + str(nombreVoyages) + \" fois\"\n",
    "print(histoire) # => \"J'ai déjà été à Syndey 5 fois\""
   ]
  },
  {
   "cell_type": "code",
   "execution_count": 4,
   "metadata": {},
   "outputs": [],
   "source": [
    "def afficherPerimetre(cote1, cote2, cote3):\n",
    "    perimetre = cote1 + cote2 + cote3\n",
    "    print(perimetre)"
   ]
  },
  {
   "cell_type": "code",
   "execution_count": 7,
   "metadata": {},
   "outputs": [
    {
     "ename": "TypeError",
     "evalue": "can only concatenate str (not \"int\") to str",
     "output_type": "error",
     "traceback": [
      "\u001b[0;31m---------------------------------------------------------------------------\u001b[0m",
      "\u001b[0;31mTypeError\u001b[0m                                 Traceback (most recent call last)",
      "\u001b[0;32m<ipython-input-7-9ed213e6e0ce>\u001b[0m in \u001b[0;36m<module>\u001b[0;34m\u001b[0m\n\u001b[0;32m----> 1\u001b[0;31m \u001b[0mafficherPerimetre\u001b[0m\u001b[0;34m(\u001b[0m\u001b[0;34m\"cote1\"\u001b[0m\u001b[0;34m,\u001b[0m \u001b[0;36m5\u001b[0m\u001b[0;34m,\u001b[0m \u001b[0;34m\"cote3\"\u001b[0m\u001b[0;34m)\u001b[0m\u001b[0;34m\u001b[0m\u001b[0;34m\u001b[0m\u001b[0m\n\u001b[0m",
      "\u001b[0;32m<ipython-input-4-1fb7ebb289c1>\u001b[0m in \u001b[0;36mafficherPerimetre\u001b[0;34m(cote1, cote2, cote3)\u001b[0m\n\u001b[1;32m      1\u001b[0m \u001b[0;32mdef\u001b[0m \u001b[0mafficherPerimetre\u001b[0m\u001b[0;34m(\u001b[0m\u001b[0mcote1\u001b[0m\u001b[0;34m,\u001b[0m \u001b[0mcote2\u001b[0m\u001b[0;34m,\u001b[0m \u001b[0mcote3\u001b[0m\u001b[0;34m)\u001b[0m\u001b[0;34m:\u001b[0m\u001b[0;34m\u001b[0m\u001b[0;34m\u001b[0m\u001b[0m\n\u001b[0;32m----> 2\u001b[0;31m     \u001b[0mperimetre\u001b[0m \u001b[0;34m=\u001b[0m \u001b[0mcote1\u001b[0m \u001b[0;34m+\u001b[0m \u001b[0mcote2\u001b[0m \u001b[0;34m+\u001b[0m \u001b[0mcote3\u001b[0m\u001b[0;34m\u001b[0m\u001b[0;34m\u001b[0m\u001b[0m\n\u001b[0m\u001b[1;32m      3\u001b[0m     \u001b[0mprint\u001b[0m\u001b[0;34m(\u001b[0m\u001b[0mperimetre\u001b[0m\u001b[0;34m)\u001b[0m\u001b[0;34m\u001b[0m\u001b[0;34m\u001b[0m\u001b[0m\n",
      "\u001b[0;31mTypeError\u001b[0m: can only concatenate str (not \"int\") to str"
     ]
    }
   ],
   "source": [
    "afficherPerimetre(\"cote1\", 5, \"cote3\")"
   ]
  },
  {
   "cell_type": "code",
   "execution_count": 9,
   "metadata": {},
   "outputs": [
    {
     "name": "stdout",
     "output_type": "stream",
     "text": [
      "caca 5 oui\n"
     ]
    }
   ],
   "source": [
    "print(\"caca\",5,\"oui\")"
   ]
  },
  {
   "cell_type": "code",
   "execution_count": 10,
   "metadata": {},
   "outputs": [
    {
     "name": "stdout",
     "output_type": "stream",
     "text": [
      "27 , 5\n"
     ]
    }
   ],
   "source": [
    "x = 10\n",
    "\n",
    "x += 12\n",
    "\n",
    "y = int(x/4)\n",
    "\n",
    "x = x + y\n",
    "\n",
    "print (x,\",\", y)"
   ]
  },
  {
   "cell_type": "code",
   "execution_count": 12,
   "metadata": {},
   "outputs": [
    {
     "name": "stdout",
     "output_type": "stream",
     "text": [
      "This is a test\n"
     ]
    }
   ],
   "source": [
    "a = \"This is A TEST\"\n",
    "print(a.capitalize())"
   ]
  },
  {
   "cell_type": "code",
   "execution_count": 14,
   "metadata": {},
   "outputs": [
    {
     "name": "stdout",
     "output_type": "stream",
     "text": [
      "1 0 16 1\n"
     ]
    }
   ],
   "source": [
    "a = 4 \n",
    "def polynome(a,b,c,x):\n",
    "    return a*x**2 + b*x + c\n",
    "b=a\n",
    "b*=a\n",
    "c=1\n",
    "resultat = polynome(a,b,c,0)\n",
    "a += 3\n",
    "a = 0\n",
    "print (resultat, a, b, c)"
   ]
  },
  {
   "cell_type": "code",
   "execution_count": 15,
   "metadata": {},
   "outputs": [
    {
     "ename": "SyntaxError",
     "evalue": "invalid syntax (<ipython-input-15-6042ce709f85>, line 1)",
     "output_type": "error",
     "traceback": [
      "\u001b[0;36m  File \u001b[0;32m\"<ipython-input-15-6042ce709f85>\"\u001b[0;36m, line \u001b[0;32m1\u001b[0m\n\u001b[0;31m    1pitbull = 0\u001b[0m\n\u001b[0m     ^\u001b[0m\n\u001b[0;31mSyntaxError\u001b[0m\u001b[0;31m:\u001b[0m invalid syntax\n"
     ]
    }
   ],
   "source": [
    "1pitbull = 0\n",
    "print (1pitbull)"
   ]
  },
  {
   "cell_type": "code",
   "execution_count": 16,
   "metadata": {},
   "outputs": [
    {
     "name": "stdin",
     "output_type": "stream",
     "text": [
      "c'koi ton nom? yeah man\n"
     ]
    }
   ],
   "source": [
    "testNom = input(\"c'koi ton nom?\")"
   ]
  },
  {
   "cell_type": "code",
   "execution_count": 18,
   "metadata": {},
   "outputs": [
    {
     "name": "stdin",
     "output_type": "stream",
     "text": [
      "Quel est ton nom, cher(e) inconnu(e) ? \n"
     ]
    },
    {
     "name": "stdout",
     "output_type": "stream",
     "text": [
      "Hello World !\n"
     ]
    }
   ],
   "source": [
    "nom = input('Quel est ton nom, cher(e) inconnu(e) ?')\n",
    "\n",
    "if len(nom) > 0:\n",
    "    print(\"Hello\", nom, \"!\")\n",
    "else:\n",
    "    print(\"Hello World !\")"
   ]
  },
  {
   "cell_type": "code",
   "execution_count": 20,
   "metadata": {},
   "outputs": [
    {
     "name": "stdout",
     "output_type": "stream",
     "text": [
      "0\n",
      "1\n",
      "Cas spécial\n",
      "3\n",
      "4\n",
      "Cas spécial\n",
      "6\n",
      "7\n",
      "8\n",
      "9\n"
     ]
    }
   ],
   "source": [
    "for i in range(10):\n",
    "    if (i == 2) or (i == 5):\n",
    "        print(\"Cas spécial\")\n",
    "        continue \n",
    "    print(i)\n"
   ]
  },
  {
   "cell_type": "code",
   "execution_count": 21,
   "metadata": {},
   "outputs": [
    {
     "name": "stdout",
     "output_type": "stream",
     "text": [
      "[]\n",
      "['bar', 'baz']\n",
      "foo\n",
      "bar\n"
     ]
    }
   ],
   "source": [
    "a = ['foo','bar','baz','qux','quux','corge']\n",
    "\n",
    "print(a[4:-2])\n",
    "print(a[-5:-3])\n",
    "print(a[-6])\n",
    "print(a[1])"
   ]
  },
  {
   "cell_type": "code",
   "execution_count": 25,
   "metadata": {},
   "outputs": [
    {
     "name": "stdout",
     "output_type": "stream",
     "text": [
      "[]\n",
      "['red']\n",
      "[]\n"
     ]
    }
   ],
   "source": [
    "colors =[]\n",
    "print(colors)\n",
    "colors.append('red')\n",
    "print(colors)\n",
    "colors.remove('red')\n",
    "print(colors)"
   ]
  },
  {
   "cell_type": "code",
   "execution_count": 26,
   "metadata": {},
   "outputs": [
    {
     "name": "stdout",
     "output_type": "stream",
     "text": [
      "1\n",
      "2\n",
      "4\n"
     ]
    }
   ],
   "source": [
    "if 'bar' in {'foo': 1, 'bar': 2, 'baz': 3}:\n",
    "\n",
    "    print(1)\n",
    "\n",
    "    print(2)\n",
    "\n",
    "    if 'a' in 'qux':\n",
    "\n",
    "        print(3)\n",
    "\n",
    "print(4)"
   ]
  },
  {
   "cell_type": "code",
   "execution_count": 27,
   "metadata": {},
   "outputs": [
    {
     "name": "stdout",
     "output_type": "stream",
     "text": [
      "yeah !\n"
     ]
    }
   ],
   "source": [
    "d = {'a': 0, 'b': 1, 'c': 0}\n",
    "\n",
    "\n",
    "if d['a'] > 0:\n",
    "\n",
    "    print('yeah !')\n",
    "\n",
    "elif d['b'] > 0:\n",
    "\n",
    "    print('yeah !')\n",
    "\n",
    "elif d['c'] > 0:\n",
    "\n",
    "    print('ok')\n",
    "\n",
    "elif d['d'] > 0:\n",
    "\n",
    "    print('ok')\n",
    "\n",
    "else:\n",
    "\n",
    "    print('not ok')"
   ]
  },
  {
   "cell_type": "code",
   "execution_count": 28,
   "metadata": {},
   "outputs": [
    {
     "name": "stdout",
     "output_type": "stream",
     "text": [
      "corge\n",
      "qux\n",
      "baz\n",
      "Done.\n"
     ]
    }
   ],
   "source": [
    "a = ['foo', 'bar', 'baz', 'qux', 'corge']\n",
    "\n",
    "\n",
    "while a:\n",
    "\n",
    "    if len(a) < 3:\n",
    "\n",
    "        break\n",
    "\n",
    "    print(a.pop())\n",
    "\n",
    "print('Done.')"
   ]
  },
  {
   "cell_type": "code",
   "execution_count": 29,
   "metadata": {},
   "outputs": [
    {
     "name": "stdout",
     "output_type": "stream",
     "text": [
      "corge\n"
     ]
    }
   ],
   "source": [
    "a = ['foo', 'bar', 'baz', 'qux', 'corge']\n",
    "print(a.pop())"
   ]
  },
  {
   "cell_type": "code",
   "execution_count": 31,
   "metadata": {},
   "outputs": [
    {
     "name": "stdout",
     "output_type": "stream",
     "text": [
      "0.9514455881432962\n",
      "1.696918773093588\n",
      "3.532895612782911\n",
      "1.6108349219390719\n",
      "-0.4928340990106182\n",
      "-0.7229145480278847\n",
      "1.155216561732942\n",
      "0.9533354304492528\n",
      "-0.3812468267747844\n",
      "3.614101187324477\n",
      "1.2429070276867753\n",
      "-4.180506558048232\n"
     ]
    }
   ],
   "source": [
    "import random\n",
    "for i in range(12):\n",
    "    print(random.gauss(0,2))"
   ]
  },
  {
   "cell_type": "code",
   "execution_count": 62,
   "metadata": {},
   "outputs": [
    {
     "name": "stdout",
     "output_type": "stream",
     "text": [
      "-1\n",
      "1\n"
     ]
    }
   ],
   "source": [
    "def CoinFlip():\n",
    "    f = random.random()\n",
    "    return 1 if f<0.5 else -1\n",
    "\n",
    "compte = 0\n",
    "compte += CoinFlip()\n",
    "print (compte)\n",
    "print (-5%3)"
   ]
  },
  {
   "cell_type": "code",
   "execution_count": 71,
   "metadata": {},
   "outputs": [
    {
     "name": "stdout",
     "output_type": "stream",
     "text": [
      "6198\n"
     ]
    }
   ],
   "source": [
    "def A():\n",
    "    a = random.random()\n",
    "    return 1 if a<=0.49 else -1\n",
    "\n",
    "def B():\n",
    "    if compte%3 == 0 :\n",
    "        b1 = random.random()\n",
    "        return 1 if b1<=0.09 else -1\n",
    "    else :\n",
    "        b2 = random.random()\n",
    "        return 1 if b2<=0.74 else -1\n",
    "\n",
    "    \n",
    "compte = 0 \n",
    "for i in range (1000000) :\n",
    "    test = random.random()\n",
    "    if test <= 0.5 :\n",
    "        compte += A()\n",
    "    else :\n",
    "        compte += B()\n",
    "print (compte)"
   ]
  },
  {
   "cell_type": "code",
   "execution_count": 74,
   "metadata": {},
   "outputs": [],
   "source": [
    "population = range (1000)\n",
    "N=10\n",
    "\n",
    "tickets = []\n",
    "for n in range (N) :\n",
    "    tickets.append(random.choice(population))"
   ]
  },
  {
   "cell_type": "code",
   "execution_count": null,
   "metadata": {},
   "outputs": [],
   "source": []
  }
 ],
 "metadata": {
  "kernelspec": {
   "display_name": "Python 3",
   "language": "python",
   "name": "python3"
  },
  "language_info": {
   "codemirror_mode": {
    "name": "ipython",
    "version": 3
   },
   "file_extension": ".py",
   "mimetype": "text/x-python",
   "name": "python",
   "nbconvert_exporter": "python",
   "pygments_lexer": "ipython3",
   "version": "3.8.3"
  }
 },
 "nbformat": 4,
 "nbformat_minor": 4
}
